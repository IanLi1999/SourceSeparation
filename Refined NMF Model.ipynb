{
 "cells": [
  {
   "cell_type": "markdown",
   "metadata": {},
   "source": [
    "# Refined NMF for Our AMT Project  \n",
    "$X_{r,n,m} = {\\Sigma}^K_{k=1}G_{r,k} {\\cdot} A_{n,k} {\\cdot} S_{m,k}$  \n",
    "\n",
    " - 随机初始化$B,G$  \n",
    "     \n",
    "     - $B$迭代：${B = B.{\\times} {\\frac{{\\frac{X}{BG}}G^T}{1G^T}}}$  \n",
    "     - $G$迭代：${G = G.{\\times} {\\frac{{\\nabla}{c^-}(B,G)}{{\\nabla}{c^+}(B,G)}}}$，其中：${{\\nabla}{c^+}(B,G)} = {B^T}1$，${{\\nabla}{c^-}(B,G)} = {B^T{\\frac{X}{BG}}}$\n",
    "     - Cost function: ${c(B,G)=c_r(B,G)+{\\alpha}c_t(G)+{\\beta}c_s(G)}$  \n",
    "        - $c_r(B,G)$: Reconstruction error term, using: \n",
    "\t     ${D(X||BG)={\\Sigma}_{k,t}[X]_{k,t}{\\log}{\\frac{[X]_{k,t}}{[BG]_{k,t}}}-[X]_{k,t} + [BG]_{k,t}}$  \n",
    "\t\t  \n",
    "\t\t  $c_t(G)$: Temporal continuity term, using: \n",
    "\t\t  ${c_t(G)={\\Sigma}_{j=1}^{J}{\\frac{1}{{\\sigma}_j^2}}{\\Sigma}_{t=2}^T(g_{t,j}-g_{t-1,j})^2}, {\\sigma}_j={\\sqrt{(1/T){\\Sigma}_{t=1}^{T}g_{t,j}^2}}$  \n",
    "\t\t- $c_s(G)$: Sparseness Objective term, using: \n",
    "\t\t  $c_s(G) = {\\Sigma}_{j=1}^J{\\Sigma}_{t=1}^Tf(g_{j,t}/{\\sigma}_j)$  "
   ]
  },
  {
   "cell_type": "code",
   "execution_count": 1,
   "metadata": {},
   "outputs": [],
   "source": [
    "import numpy as np"
   ]
  },
  {
   "cell_type": "code",
   "execution_count": 51,
   "metadata": {},
   "outputs": [],
   "source": [
    "A = np.array([[1,2,3], [3,2,1]])\n",
    "B = np.array([[1,4], [2,5], [3,6]])\n",
    "C = np.array([[2,3], [4,7]])\n",
    "\n",
    "A = np.mat(A)\n",
    "B = np.mat(B)\n",
    "C = np.mat(C)"
   ]
  },
  {
   "cell_type": "markdown",
   "metadata": {},
   "source": [
    "${B = B.{\\times} {\\frac{{\\frac{X}{BG}}G^T}{1G^T}}}$  "
   ]
  },
  {
   "cell_type": "code",
   "execution_count": 55,
   "metadata": {},
   "outputs": [],
   "source": [
    "def update_B(X, B, G):\n",
    "    # B, X, G are all np.matrix\n",
    "    numerator = X / (B * G)\n",
    "    numerator = numerator * G.T\n",
    "\n",
    "    one = np.ones(X.shape)\n",
    "    denominator = one * G.T\n",
    "    \n",
    "    factor = numerator / denominator\n",
    "    \n",
    "    return  np.multiply(B, factor)"
   ]
  },
  {
   "cell_type": "markdown",
   "metadata": {},
   "source": [
    "${G = G.{\\times} {\\frac{{\\nabla}{c^-}(B,G)}{{\\nabla}{c^+}(B,G)}}}$  \n",
    "${{\\nabla}{c^+}(B,G)} = {B^T}1$  \n",
    "${{\\nabla}{c^-}(B,G)} = {B^T{\\frac{X}{BG}}}$"
   ]
  },
  {
   "cell_type": "code",
   "execution_count": 56,
   "metadata": {},
   "outputs": [],
   "source": [
    "def update_G(X, B, G):\n",
    "    one = np.ones(X.shape)\n",
    "    nabla_p = B.T * one\n",
    "\n",
    "    nabla_n = B.T * (X / (B * G))\n",
    "    \n",
    "    factor = nabla_n / nabla_p\n",
    "    \n",
    "    return np.multiply(G, factor)"
   ]
  },
  {
   "cell_type": "markdown",
   "metadata": {},
   "source": [
    "$c_r(B,G)$: Reconstruction error term, using:   \n",
    "${D(X||BG)={\\Sigma}_{k,t}([X]_{k,t}{\\log}{\\frac{[X]_{k,t}}{[BG]_{k,t}}}-[X]_{k,t} + [BG]_{k,t})}$  "
   ]
  },
  {
   "cell_type": "code",
   "execution_count": 61,
   "metadata": {},
   "outputs": [],
   "source": [
    "def get_reconstruction_error(X, B, G):\n",
    "    X_re =  B * G\n",
    "    log_value = np.log(np.divide(X, X_re))\n",
    "    multi_value = np.multiply(X, log_value)\n",
    "    abst_value = np.abstract(multi_value, X)\n",
    "    add_value = np.add(abs_value, X_re)\n",
    "    \n",
    "    return add_value"
   ]
  },
  {
   "cell_type": "markdown",
   "metadata": {},
   "source": [
    "${\\sigma}_j={\\sqrt{(1/T){\\Sigma}_{t=1}^{T}g_{t,j}^2}}$  "
   ]
  },
  {
   "cell_type": "code",
   "execution_count": 62,
   "metadata": {},
   "outputs": [],
   "source": [
    "def get_divation(G):\n",
    "    # square deviation of each component\n",
    "    T = G.shape[1]\n",
    "    square = np.multiply(G, G)\n",
    "    j_sum = np.sum(square, aixs=1)\n",
    "    \n",
    "    return j_sum/T"
   ]
  },
  {
   "cell_type": "markdown",
   "metadata": {},
   "source": [
    "$c_t(G)$: Temporal continuity term, using:  \n",
    "${c_t(G)={\\Sigma}_{j=1}^{J}{\\frac{1}{{\\sigma}_j^2}}{\\Sigma}_{t=2}^T(g_{t,j}-g_{t-1,j})^2}$"
   ]
  },
  {
   "cell_type": "code",
   "execution_count": 65,
   "metadata": {},
   "outputs": [],
   "source": [
    "def get_temporal_term(G, deviation):\n",
    "    G_diff = np.abstract(G[:, 1:], G[:, 0:-1])\n",
    "    square = np.multiply(G_diff, G_diff)\n",
    "    G_sum = np.sum(square, axis=1)\n",
    "    \n",
    "    time_sum = np.divide(G_sum, deviation)\n",
    "    j_sum = np.sum(time_sum)\n",
    "    \n",
    "    return j_sum"
   ]
  },
  {
   "cell_type": "markdown",
   "metadata": {},
   "source": [
    "$c_s(G)$: Sparseness Objective term, using:   \n",
    "$c_s(G) = {\\Sigma}_{j=1}^J{\\Sigma}_{t=1}^Tf(g_{j,t}/{\\sigma}_j)$  "
   ]
  },
  {
   "cell_type": "code",
   "execution_count": 67,
   "metadata": {},
   "outputs": [],
   "source": [
    "def get_sparseness_term(G, deviation):\n",
    "    std = np.sqrt(deviation)\n",
    "    sparse_matrix = np.abs(G / std)\n",
    "    \n",
    "    return np.sum(sparse_matrix)"
   ]
  },
  {
   "cell_type": "code",
   "execution_count": 66,
   "metadata": {},
   "outputs": [],
   "source": [
    "def get_cost(X, B, G, alpha, beta):\n",
    "    # reconstruction error\n",
    "    c_r = get_reconstruction_error(X, B, G)\n",
    "    sqr_deviation = get_deviation(G)\n",
    "    c_t = get_temporal_term(G, sqr_deviation)\n",
    "    c_s = get_sparseness_term(G, sqr_deviation)\n",
    "    \n",
    "    return c_r + alpha * c_t+ beta * c_s"
   ]
  },
  {
   "cell_type": "code",
   "execution_count": 68,
   "metadata": {},
   "outputs": [],
   "source": [
    "def nmf(X, n, max_iterate, alpha, beta, tolerance=0.0001):\n",
    "    # initialize B and G randomly\n",
    "    B = np.random.rand(X.shape[0], n)\n",
    "    G = np.random.rand(n, X.shape[1])\n",
    "    \n",
    "    cost = []\n",
    "    for i in range(0, max_iterate):\n",
    "        B = update_B(X, B, G)\n",
    "        G = update_G(X, B, G)\n",
    "        \n",
    "        if i == 0:\n",
    "            # cost[1] - previous cost, cost[0] - current cost\n",
    "            cost.append(get_cost(X, B, G, alpha, beta))\n",
    "            cost.append(cost[0]+0.1)\n",
    "        else:\n",
    "            cost[1] = cost[0]\n",
    "            cost[0] = get_cost(X, B, G, alpha, beta)\n",
    "            \n",
    "        if np.abs(cost[0]-cost[1]) <= tolerance:\n",
    "            break\n",
    "            \n",
    "    return B, G, cost[0]"
   ]
  }
 ],
 "metadata": {
  "kernelspec": {
   "display_name": "Python 3",
   "language": "python",
   "name": "python3"
  },
  "language_info": {
   "codemirror_mode": {
    "name": "ipython",
    "version": 3
   },
   "file_extension": ".py",
   "mimetype": "text/x-python",
   "name": "python",
   "nbconvert_exporter": "python",
   "pygments_lexer": "ipython3",
   "version": "3.5.2"
  }
 },
 "nbformat": 4,
 "nbformat_minor": 2
}
